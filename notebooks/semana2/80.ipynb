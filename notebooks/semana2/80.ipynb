{
 "cells": [
  {
   "cell_type": "markdown",
   "id": "385b62ef",
   "metadata": {},
   "source": [
    "<h1> Problema 80 </h1>"
   ]
  },
  {
   "cell_type": "markdown",
   "id": "ddebb0ea",
   "metadata": {},
   "source": [
    "link: https://1001problemas.com/problema-80/"
   ]
  },
  {
   "cell_type": "markdown",
   "id": "28e49fea",
   "metadata": {},
   "source": [
    "<h3>Descripción:</h3>"
   ]
  },
  {
   "cell_type": "markdown",
   "id": "67ddcf82",
   "metadata": {},
   "source": [
    "Escribir un algoritmo en pseudocódigo para calcular el área de un círculo."
   ]
  },
  {
   "cell_type": "markdown",
   "id": "1c7ec2dc",
   "metadata": {},
   "source": [
    "```\n",
    "primero se importa math de python para tener el valor de pi\n",
    "luego se pide el radio del circulo\n",
    "después se calcula el area con la formula pi*radio² \n",
    "finalmente se muestra todo por pantalla\n",
    "```"
   ]
  },
  {
   "cell_type": "markdown",
   "id": "6f2ae64f",
   "metadata": {},
   "source": [
    "<h4>Ejemplo en código</h4>"
   ]
  },
  {
   "cell_type": "code",
   "execution_count": null,
   "id": "66f4d754",
   "metadata": {},
   "outputs": [],
   "source": [
    "import math\n",
    "\n",
    "print(\"ingresar el radio del circulo\")\n",
    "radio = int(input())\n",
    "\n",
    "circ = math.pi * radio**2\n",
    "\n",
    "print(\"la circunferencia del circulo es\", circ)"
   ]
  }
 ],
 "metadata": {
  "language_info": {
   "name": "python"
  }
 },
 "nbformat": 4,
 "nbformat_minor": 5
}
