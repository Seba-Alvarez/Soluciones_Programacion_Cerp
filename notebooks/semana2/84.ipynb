{
 "cells": [
  {
   "cell_type": "markdown",
   "id": "6dbc2270",
   "metadata": {},
   "source": [
    "<h1> Problema 84 </h1>"
   ]
  },
  {
   "cell_type": "markdown",
   "id": "0a922f68",
   "metadata": {},
   "source": [
    "link: https://1001problemas.com/problema-84/"
   ]
  },
  {
   "cell_type": "markdown",
   "id": "7850cd0e",
   "metadata": {},
   "source": [
    "<h3>Descripción:</h3>"
   ]
  },
  {
   "cell_type": "markdown",
   "id": "72b992db",
   "metadata": {},
   "source": [
    "Escribir un algoritmo en pseudocódigo para encontrar el mayor elemento de una lista de números."
   ]
  },
  {
   "cell_type": "markdown",
   "id": "79521963",
   "metadata": {},
   "source": [
    "```\n",
    "primero se define la función y que se le va a pasar una lista por parámetros\n",
    "    luego se crea una variable para guardar el primer elemento de la lista\n",
    "    se recorre la lista\n",
    "        se pregunta si el primer número es mayor al segundo\n",
    "            si es mayor se guarda el mayor número\n",
    "    se retorna el mayor número\n",
    "se pide la lista\n",
    "se imprime por pantalla el resultado\n",
    "```"
   ]
  },
  {
   "cell_type": "markdown",
   "id": "0cb832c7",
   "metadata": {},
   "source": [
    "<h4>Ejemplo en código</h4>"
   ]
  },
  {
   "cell_type": "code",
   "execution_count": null,
   "id": "1fe37f88",
   "metadata": {},
   "outputs": [],
   "source": [
    "def encontrar_mayor(lista):\n",
    "    mayor = lista[0]\n",
    "    for i in lista:\n",
    "        if i > mayor:\n",
    "            mayor = i\n",
    "    return mayor\n",
    "\n",
    "print(\"ingresar una lista de números separada por espacios\")\n",
    "num2 = input()\n",
    "num_lis2 = list(map(int, num2.split()))\n",
    "\n",
    "print(\"el mayor elemento de la lista es\", encontrar_mayor(num_lis2))"
   ]
  }
 ],
 "metadata": {
  "language_info": {
   "name": "python"
  }
 },
 "nbformat": 4,
 "nbformat_minor": 5
}
