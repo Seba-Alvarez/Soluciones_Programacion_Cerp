{
 "cells": [
  {
   "cell_type": "markdown",
   "id": "96ea308c",
   "metadata": {},
   "source": [
    "<h1> Problema 85 </h1>"
   ]
  },
  {
   "cell_type": "markdown",
   "id": "84d65609",
   "metadata": {},
   "source": [
    "link: https://1001problemas.com/problema-85/"
   ]
  },
  {
   "cell_type": "markdown",
   "id": "b912b5f2",
   "metadata": {},
   "source": [
    "<h3>Descripción:</h3>"
   ]
  },
  {
   "cell_type": "markdown",
   "id": "997b3c04",
   "metadata": {},
   "source": [
    "Escribir un algoritmo en pseudocódigo para encontrar el menor elemento de una lista de números."
   ]
  },
  {
   "cell_type": "markdown",
   "id": "039be2c2",
   "metadata": {},
   "source": [
    "```\n",
    "primero se define la función y que se le va a pasar una lista por parámetros\n",
    "    luego se crea una variable para guardar el primer elemento de la lista\n",
    "    se recorre la lista\n",
    "        se pregunta si el primer número es menor al segundo\n",
    "            si es menor se guarda el menor número\n",
    "    se retorna el menor número\n",
    "se pide la lista\n",
    "se imprime por pantalla el resultado\n",
    "\n",
    "```"
   ]
  },
  {
   "cell_type": "markdown",
   "id": "00444f41",
   "metadata": {},
   "source": [
    "<h4>Ejemplo en código</h4>"
   ]
  },
  {
   "cell_type": "code",
   "execution_count": null,
   "id": "4a1bd1d6",
   "metadata": {},
   "outputs": [],
   "source": [
    "def encontrar_menor(lista):\n",
    "    menor = lista[0]\n",
    "    for i in lista:\n",
    "        if i < menor:\n",
    "            menor = i\n",
    "    return menor\n",
    "\n",
    "print(\"ingresar una lista de números separada por espacios\")\n",
    "num1 = input()\n",
    "num_lis1 = list(map(int, num1.split()))\n",
    "\n",
    "print(\"el menor elemento de la lista es\", encontrar_menor(num_lis1))"
   ]
  }
 ],
 "metadata": {
  "language_info": {
   "name": "python"
  }
 },
 "nbformat": 4,
 "nbformat_minor": 5
}
