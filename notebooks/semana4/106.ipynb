{
 "cells": [
  {
   "cell_type": "markdown",
   "id": "42ae29c2",
   "metadata": {},
   "source": [
    "<h1> Problema 106 </h1>"
   ]
  },
  {
   "cell_type": "markdown",
   "id": "b9da8995",
   "metadata": {},
   "source": [
    "link: https://1001problemas.com/problema-106/"
   ]
  },
  {
   "cell_type": "markdown",
   "id": "23127ca9",
   "metadata": {},
   "source": [
    "<h3>Descripción:</h3>"
   ]
  },
  {
   "cell_type": "markdown",
   "id": "8bad89ca",
   "metadata": {},
   "source": [
    "Escribir un algoritmo en pseudocódigo para concatenar dos cadenas de caracteres."
   ]
  },
  {
   "cell_type": "markdown",
   "id": "b48201d2",
   "metadata": {},
   "source": [
    "```\n",
    "se pide la primera cadena de caracteres\n",
    "se pide la segunda cadena de caracteres\n",
    "se guardan en una variable la primera cadena + la segunda cadena\n",
    "se muestra la información deseada por pantalla.\n",
    "```"
   ]
  },
  {
   "cell_type": "markdown",
   "id": "0a5926da",
   "metadata": {},
   "source": [
    "<h4>Ejemplo en código</h4>"
   ]
  },
  {
   "cell_type": "code",
   "execution_count": null,
   "id": "ed7b7e53",
   "metadata": {},
   "outputs": [],
   "source": [
    "print(\"ingresar la primera cadena de caracteres\")\n",
    "cad1 = input()\n",
    "\n",
    "print(\"ingresar la segunda cadena de caracteres\")\n",
    "cad2 = input()\n",
    "\n",
    "cad3 = cad1 + cad2\n",
    "\n",
    "print(f\"las dos cadenas de caracteres concatenadas quedarían asi: {cad3}\")"
   ]
  }
 ],
 "metadata": {
  "language_info": {
   "name": "python"
  }
 },
 "nbformat": 4,
 "nbformat_minor": 5
}
