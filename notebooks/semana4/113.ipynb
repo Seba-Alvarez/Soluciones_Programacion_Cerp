{
 "cells": [
  {
   "cell_type": "markdown",
   "id": "09ebfcfe",
   "metadata": {},
   "source": [
    "<h1> Problema 113 </h1>"
   ]
  },
  {
   "cell_type": "markdown",
   "id": "bdfbbdc1",
   "metadata": {},
   "source": [
    "link: https://1001problemas.com/problema-113/"
   ]
  },
  {
   "cell_type": "markdown",
   "id": "fd311975",
   "metadata": {},
   "source": [
    "<h3>Descripción:</h3>"
   ]
  },
  {
   "cell_type": "markdown",
   "id": "24be2ffc",
   "metadata": {},
   "source": [
    "Escribir un algoritmo en pseudocódigo para ordenar los elementos de un arreglo de menor a mayor o de mayor a menor."
   ]
  },
  {
   "cell_type": "markdown",
   "id": "e30bd966",
   "metadata": {},
   "source": [
    "```\n",
    "ordenar de menor a mayor\n",
    "primero se define una lista\n",
    "luego se llama al método .sort() usando la lista\n",
    "finalmente se imprime por pantalla\n",
    "\n",
    "-\n",
    "\n",
    "ordenar de mayor a menor\n",
    "primero se define una lista\n",
    "luego se llama al método .sort() usando la lista y se le pasa por parametro que quiere se quiere invertir el orden\n",
    "finalmente se imprime por pantalla\n",
    "```"
   ]
  },
  {
   "cell_type": "markdown",
   "id": "4346ef5f",
   "metadata": {},
   "source": [
    "<h4>Ejemplo en código</h4>"
   ]
  },
  {
   "cell_type": "code",
   "execution_count": null,
   "id": "270c3988",
   "metadata": {},
   "outputs": [],
   "source": [
    "print (\"ingresar una cadena de números separada por espacios\")\n",
    "num2 = input()\n",
    "num_lis1 = list(map(int, num2.split()))\n",
    "num_lis1.sort()\n",
    "print(\"la lista ordenada de menor a mayor es\", num_lis1)"
   ]
  },
  {
   "cell_type": "markdown",
   "id": "c1cfe077",
   "metadata": {},
   "source": [
    "```\n",
    "-\n",
    "```"
   ]
  },
  {
   "cell_type": "code",
   "execution_count": null,
   "id": "7359ffb9",
   "metadata": {},
   "outputs": [],
   "source": [
    "print (\"ingresar una cadena de números separada por espacios\")\n",
    "num3 = input()\n",
    "num_lis2 = list(map(int, num3.split()))\n",
    "num_lis2.sort(reverse=True)\n",
    "print(\"la lista ordenada de mayor a menor es\", num_lis2)"
   ]
  }
 ],
 "metadata": {
  "language_info": {
   "name": "python"
  }
 },
 "nbformat": 4,
 "nbformat_minor": 5
}
