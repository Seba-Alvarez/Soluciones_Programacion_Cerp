{
 "cells": [
  {
   "cell_type": "markdown",
   "id": "da88f261",
   "metadata": {},
   "source": [
    "<h1> Problema 105 </h1>"
   ]
  },
  {
   "cell_type": "markdown",
   "id": "023164f2",
   "metadata": {},
   "source": [
    "link: https://1001problemas.com/problema-105/"
   ]
  },
  {
   "cell_type": "markdown",
   "id": "4a8cd184",
   "metadata": {},
   "source": [
    "<h3>Descripción:</h3>"
   ]
  },
  {
   "cell_type": "markdown",
   "id": "669e6c70",
   "metadata": {},
   "source": [
    "Escribir un algoritmo en pseudocódigo para calcular la longitud de una cadena de caracteres."
   ]
  },
  {
   "cell_type": "markdown",
   "id": "efb370df",
   "metadata": {},
   "source": [
    "```\n",
    "primero se crea una variable para pedir la cadena de caracteres\n",
    "luego se muestra por pantalla con la función len pasándole por parámetros la variable creada\n",
    "```"
   ]
  },
  {
   "cell_type": "markdown",
   "id": "f9b2914f",
   "metadata": {},
   "source": [
    "<h4>Ejemplo en código</h4>"
   ]
  },
  {
   "cell_type": "code",
   "execution_count": null,
   "id": "54df03d1",
   "metadata": {},
   "outputs": [],
   "source": [
    "print(\"ingresar una lista de números separada por espacios\")\n",
    "num2 = input()\n",
    "print(\"la longitud de la cadena de caracteres es\", len(num2))"
   ]
  }
 ],
 "metadata": {
  "language_info": {
   "name": "python"
  }
 },
 "nbformat": 4,
 "nbformat_minor": 5
}
