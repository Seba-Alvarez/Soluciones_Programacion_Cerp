{
 "cells": [
  {
   "cell_type": "markdown",
   "id": "0b92beb5",
   "metadata": {},
   "source": [
    "<h1> Problema 74 </h1>"
   ]
  },
  {
   "cell_type": "markdown",
   "id": "2f1296a6",
   "metadata": {},
   "source": [
    "link: https://1001problemas.com/problema-74/"
   ]
  },
  {
   "cell_type": "markdown",
   "id": "492695f6",
   "metadata": {},
   "source": [
    "<h3>Descripción:</h3>"
   ]
  },
  {
   "cell_type": "markdown",
   "id": "de3921c3",
   "metadata": {},
   "source": [
    "Escribir un algoritmo en pseudocódigo para determinar si un número es divisible por otro."
   ]
  },
  {
   "cell_type": "markdown",
   "id": "3583841f",
   "metadata": {},
   "source": [
    "```\n",
    "se pide el primer número\n",
    "se pide el segundo número\n",
    "se verifica si el resto de la división entre el primer numero y el segundo es 0\n",
    "    si es 0 se imprime que num1 es divisible por num2\n",
    "    si es diferente a 0, se imprime que num1 no es divisible por num2\n",
    "```"
   ]
  },
  {
   "cell_type": "markdown",
   "id": "17180920",
   "metadata": {},
   "source": [
    "<h4>Ejemplo en código</h4>"
   ]
  },
  {
   "cell_type": "code",
   "execution_count": null,
   "id": "94bee483",
   "metadata": {},
   "outputs": [],
   "source": [
    "num1 = int(input())\n",
    "num2 = int(input())\n",
    "\n",
    "if num1 % num2 == 0:\n",
    "    print(f\"{num1} es divisible por {num2}\")\n",
    "else:\n",
    "    print(f\"{num1} no es divisible por {num2}\")"
   ]
  }
 ],
 "metadata": {
  "language_info": {
   "name": "python"
  }
 },
 "nbformat": 4,
 "nbformat_minor": 5
}
