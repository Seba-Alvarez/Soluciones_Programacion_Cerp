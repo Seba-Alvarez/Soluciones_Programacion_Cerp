{
 "cells": [
  {
   "cell_type": "markdown",
   "id": "35888536",
   "metadata": {},
   "source": [
    "<h1> Problema 76 </h1>"
   ]
  },
  {
   "cell_type": "markdown",
   "id": "bb5de93a",
   "metadata": {},
   "source": [
    "link: https://1001problemas.com/problema-76/"
   ]
  },
  {
   "cell_type": "markdown",
   "id": "7cc2af38",
   "metadata": {},
   "source": [
    "<h3>Descripción:</h3>"
   ]
  },
  {
   "cell_type": "markdown",
   "id": "c1f21752",
   "metadata": {},
   "source": [
    "Escribir un algoritmo en pseudocódigo para calcular la media aritmética de una lista de números."
   ]
  },
  {
   "cell_type": "markdown",
   "id": "a4d9055e",
   "metadata": {},
   "source": [
    "```\n",
    "primero se importa statistics de python\n",
    "luego se crea la lista\n",
    "se imprime por pantalla la lista con la función de promedio de python pasándole la lista creada por parametro\n",
    "```"
   ]
  },
  {
   "cell_type": "markdown",
   "id": "cddccbc5",
   "metadata": {},
   "source": [
    "<h4>Ejemplo en código</h4>"
   ]
  },
  {
   "cell_type": "code",
   "execution_count": null,
   "id": "ad01aaa6",
   "metadata": {},
   "outputs": [],
   "source": [
    "import statistics\n",
    "\n",
    "print(\"ingresar una lista de números separada por espacios\")\n",
    "num1 = input()\n",
    "num_lis1 = list(map(int, num1.split()))\n",
    "print(\"el promedio de los números ingresados es\", statistics.mean(num_lis1))"
   ]
  }
 ],
 "metadata": {
  "language_info": {
   "name": "python"
  }
 },
 "nbformat": 4,
 "nbformat_minor": 5
}
