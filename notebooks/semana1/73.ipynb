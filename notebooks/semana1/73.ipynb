{
 "cells": [
  {
   "cell_type": "markdown",
   "id": "8f1ec67b",
   "metadata": {},
   "source": [
    "<h1> Problema 73 </h1>"
   ]
  },
  {
   "cell_type": "markdown",
   "id": "8cea86bf",
   "metadata": {},
   "source": [
    "link: https://1001problemas.com/problema-73/"
   ]
  },
  {
   "cell_type": "markdown",
   "id": "10d6865e",
   "metadata": {},
   "source": [
    "<h3>Descripción:</h3>"
   ]
  },
  {
   "cell_type": "markdown",
   "id": "e56d1616",
   "metadata": {},
   "source": [
    "\n",
    "Escribir un algoritmo en pseudocódigo para calcular el factorial de un número."
   ]
  },
  {
   "cell_type": "markdown",
   "id": "7a1fa6b5",
   "metadata": {},
   "source": [
    "```\n",
    "se define una función con el nombre encontrar_factorial\n",
    "    se verifica si el número que se le va a pasar a la función es 0 ó 1 (cuyos factoriales son 0)\n",
    "        en caso de complirse la condición se retorna 1\n",
    "    en caso de no cumplirse se retorna el número se aplica la fórmula del factorial (n!=n×(n−1)!)\n",
    "        factorial de un natural es un número multiplicado el número menos 1,2,etc hasta llegar a 1\n",
    "            entonces, se puede recorrer todos los números con un búcle multiplicándolos\n",
    "            o se puede llamar a la función dentro de la misma para hacerlo más corto\n",
    "se pide un número por consola\n",
    "se imprime por pantalla la función pasándole por parametro el número por consola\n",
    "```"
   ]
  },
  {
   "cell_type": "markdown",
   "id": "201e59ae",
   "metadata": {},
   "source": [
    "<h4>Ejemplo en código</h4>"
   ]
  },
  {
   "cell_type": "code",
   "execution_count": null,
   "id": "00ddce03",
   "metadata": {},
   "outputs": [],
   "source": [
    "def encontrar_factorial(n):\n",
    "    if n == 0 or n == 1:\n",
    "        return 1\n",
    "    return n * encontrar_factorial(n - 1)\n",
    "\n",
    "print(\"ingresar un número para calcular el factorial\")\n",
    "num1 = int(input())\n",
    "print(\"el factorial del número ingresado es:\", encontrar_factorial(num1))"
   ]
  }
 ],
 "metadata": {
  "kernelspec": {
   "display_name": "Python 3",
   "language": "python",
   "name": "python3"
  },
  "language_info": {
   "codemirror_mode": {
    "name": "ipython",
    "version": 3
   },
   "file_extension": ".py",
   "mimetype": "text/x-python",
   "name": "python",
   "nbconvert_exporter": "python",
   "pygments_lexer": "ipython3",
   "version": "3.13.2"
  }
 },
 "nbformat": 4,
 "nbformat_minor": 5
}
