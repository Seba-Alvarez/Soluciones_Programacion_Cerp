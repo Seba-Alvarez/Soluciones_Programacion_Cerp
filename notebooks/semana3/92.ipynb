{
 "cells": [
  {
   "cell_type": "markdown",
   "id": "9c9d56e4",
   "metadata": {},
   "source": [
    "<h1> Problema 92 </h1>"
   ]
  },
  {
   "cell_type": "markdown",
   "id": "7903f147",
   "metadata": {},
   "source": [
    "link: https://1001problemas.com/problema-92/"
   ]
  },
  {
   "cell_type": "markdown",
   "id": "ba3f4d3d",
   "metadata": {},
   "source": [
    "<h3>Descripción:</h3>"
   ]
  },
  {
   "cell_type": "markdown",
   "id": "eb507a4b",
   "metadata": {},
   "source": [
    "Escribir un algoritmo en pseudocódigo para calcular la circunferencia de un círculo."
   ]
  },
  {
   "cell_type": "markdown",
   "id": "d37420c6",
   "metadata": {},
   "source": [
    "```\n",
    "primero importamos math de la libreria de python\n",
    "después definimos el radio, sea con un input o un número\n",
    "luego se calcula la circunferencia haciendo 2 * pi * radio\n",
    "finalmente se muestra por pantalla el resultado\n",
    "```"
   ]
  },
  {
   "cell_type": "markdown",
   "id": "1c59885f",
   "metadata": {},
   "source": [
    "<h4>Ejemplo en código</h4>"
   ]
  },
  {
   "cell_type": "code",
   "execution_count": null,
   "id": "c7b68966",
   "metadata": {},
   "outputs": [],
   "source": [
    "import math\n",
    "\n",
    "print(\"ingresar el radio del circulo\")\n",
    "radio = int(input())\n",
    "\n",
    "circ = 2 * math.pi * radio\n",
    "\n",
    "print(\"la circunferencia del circulo es\", circ)"
   ]
  }
 ],
 "metadata": {
  "language_info": {
   "name": "python"
  }
 },
 "nbformat": 4,
 "nbformat_minor": 5
}
