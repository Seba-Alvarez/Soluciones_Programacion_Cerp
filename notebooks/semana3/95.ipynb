{
 "cells": [
  {
   "cell_type": "markdown",
   "id": "2f01d6ad",
   "metadata": {},
   "source": [
    "<h1> Problema 95 </h1>"
   ]
  },
  {
   "cell_type": "markdown",
   "id": "bbea84fc",
   "metadata": {},
   "source": [
    "link: https://1001problemas.com/problema-95/"
   ]
  },
  {
   "cell_type": "markdown",
   "id": "25070b53",
   "metadata": {},
   "source": [
    "<h3>Descripción:</h3>"
   ]
  },
  {
   "cell_type": "markdown",
   "id": "cf1c5fde",
   "metadata": {},
   "source": [
    "Escribir un algoritmo en pseudocódigo para calcular el área de un triángulo."
   ]
  },
  {
   "cell_type": "markdown",
   "id": "886c08fd",
   "metadata": {},
   "source": [
    "```\n",
    "primero se piden los números que van a representar la base y la altura del triangulo\n",
    "luego se aplica la formula A=(b*a)/2\n",
    "finalmente se muestra todo por pantalla\n",
    "```"
   ]
  },
  {
   "cell_type": "markdown",
   "id": "dd5373e2",
   "metadata": {},
   "source": [
    "<h4>Ejemplo en código</h4>"
   ]
  },
  {
   "cell_type": "code",
   "execution_count": null,
   "id": "3c6e2ff8",
   "metadata": {},
   "outputs": [],
   "source": [
    "print(\"ingresar base y altura del triangulo\")\n",
    "base = int(input())\n",
    "altura = int(input())\n",
    "area = (base * altura) / 2\n",
    "print(\"el area del triangulo ingresado es\", area)"
   ]
  }
 ],
 "metadata": {
  "language_info": {
   "name": "python"
  }
 },
 "nbformat": 4,
 "nbformat_minor": 5
}
