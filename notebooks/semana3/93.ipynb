{
 "cells": [
  {
   "cell_type": "markdown",
   "id": "2890258f",
   "metadata": {},
   "source": [
    "<h1> Problema 93 </h1>"
   ]
  },
  {
   "cell_type": "markdown",
   "id": "95b9f88f",
   "metadata": {},
   "source": [
    "link: https://1001problemas.com/problema-93/"
   ]
  },
  {
   "cell_type": "markdown",
   "id": "b3a80c95",
   "metadata": {},
   "source": [
    "<h3>Descripción:</h3>"
   ]
  },
  {
   "cell_type": "markdown",
   "id": "ca748440",
   "metadata": {},
   "source": [
    "Escribir un algoritmo en pseudocódigo para calcular el perímetro de un rectángulo."
   ]
  },
  {
   "cell_type": "markdown",
   "id": "75cd7156",
   "metadata": {},
   "source": [
    "```\n",
    "primero se define la base del rectángulo\n",
    "luego se define la altura del rectángulo\n",
    "después se aplica la fórmula para hallar el perímetro donde p=2*b+a\n",
    "finalmente se muestra la información por consola\n",
    "```"
   ]
  },
  {
   "cell_type": "markdown",
   "id": "a79b40c8",
   "metadata": {},
   "source": [
    "<h4>Ejemplo en código</h4>"
   ]
  },
  {
   "cell_type": "code",
   "execution_count": null,
   "id": "5d5121fc",
   "metadata": {},
   "outputs": [],
   "source": [
    "base= int(input())\n",
    "altura = int(input())\n",
    "\n",
    "perimetro = 2 * (base + altura)\n",
    "\n",
    "print(f\"el perímetro del rectángulo de base {base} y altura {altura} es: {perimetro}\")"
   ]
  }
 ],
 "metadata": {
  "language_info": {
   "name": "python"
  }
 },
 "nbformat": 4,
 "nbformat_minor": 5
}
